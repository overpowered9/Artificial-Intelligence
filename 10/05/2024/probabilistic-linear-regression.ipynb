{
 "cells": [
  {
   "cell_type": "markdown",
   "id": "1e72d18c",
   "metadata": {
    "papermill": {
     "duration": 0.006958,
     "end_time": "2024-05-09T10:17:43.431727",
     "exception": false,
     "start_time": "2024-05-09T10:17:43.424769",
     "status": "completed"
    },
    "tags": []
   },
   "source": [
    "### 1. Data Preprocessing"
   ]
  },
  {
   "cell_type": "code",
   "execution_count": 1,
   "id": "7f71fa55",
   "metadata": {
    "execution": {
     "iopub.execute_input": "2024-05-09T10:17:43.447106Z",
     "iopub.status.busy": "2024-05-09T10:17:43.446147Z",
     "iopub.status.idle": "2024-05-09T10:17:59.645208Z",
     "shell.execute_reply": "2024-05-09T10:17:59.644092Z"
    },
    "papermill": {
     "duration": 16.209762,
     "end_time": "2024-05-09T10:17:59.648262",
     "exception": false,
     "start_time": "2024-05-09T10:17:43.438500",
     "status": "completed"
    },
    "tags": []
   },
   "outputs": [
    {
     "name": "stderr",
     "output_type": "stream",
     "text": [
      "2024-05-09 10:17:46.367114: E external/local_xla/xla/stream_executor/cuda/cuda_dnn.cc:9261] Unable to register cuDNN factory: Attempting to register factory for plugin cuDNN when one has already been registered\n",
      "2024-05-09 10:17:46.367255: E external/local_xla/xla/stream_executor/cuda/cuda_fft.cc:607] Unable to register cuFFT factory: Attempting to register factory for plugin cuFFT when one has already been registered\n",
      "2024-05-09 10:17:46.513834: E external/local_xla/xla/stream_executor/cuda/cuda_blas.cc:1515] Unable to register cuBLAS factory: Attempting to register factory for plugin cuBLAS when one has already been registered\n"
     ]
    }
   ],
   "source": [
    "# Importing Libraries\n",
    "import numpy as np\n",
    "import pandas as pd\n",
    "import matplotlib.pyplot as plt\n",
    "import tensorflow as tf\n",
    "import tensorflow_probability as tfp"
   ]
  },
  {
   "cell_type": "code",
   "execution_count": 2,
   "id": "d0b2dd3b",
   "metadata": {
    "execution": {
     "iopub.execute_input": "2024-05-09T10:17:59.663482Z",
     "iopub.status.busy": "2024-05-09T10:17:59.662707Z",
     "iopub.status.idle": "2024-05-09T10:17:59.700506Z",
     "shell.execute_reply": "2024-05-09T10:17:59.699323Z"
    },
    "papermill": {
     "duration": 0.048472,
     "end_time": "2024-05-09T10:17:59.703132",
     "exception": false,
     "start_time": "2024-05-09T10:17:59.654660",
     "status": "completed"
    },
    "tags": []
   },
   "outputs": [
    {
     "name": "stdout",
     "output_type": "stream",
     "text": [
      "Train Data Shape:  (700, 2)\n",
      "Test Data Shape:  (300, 2)\n"
     ]
    }
   ],
   "source": [
    "# Importing Input Data\n",
    "test_data = pd.read_csv(\"/kaggle/input/random-linear-regression/test.csv\")\n",
    "train_data = pd.read_csv(\"/kaggle/input/random-linear-regression/train.csv\")\n",
    "print(\"Train Data Shape: \", train_data.shape)\n",
    "print(\"Test Data Shape: \", test_data.shape)"
   ]
  },
  {
   "cell_type": "code",
   "execution_count": 3,
   "id": "4a9057ee",
   "metadata": {
    "execution": {
     "iopub.execute_input": "2024-05-09T10:17:59.717682Z",
     "iopub.status.busy": "2024-05-09T10:17:59.717234Z",
     "iopub.status.idle": "2024-05-09T10:17:59.749670Z",
     "shell.execute_reply": "2024-05-09T10:17:59.748500Z"
    },
    "papermill": {
     "duration": 0.043578,
     "end_time": "2024-05-09T10:17:59.753190",
     "exception": false,
     "start_time": "2024-05-09T10:17:59.709612",
     "status": "completed"
    },
    "tags": []
   },
   "outputs": [
    {
     "data": {
      "text/html": [
       "<div>\n",
       "<style scoped>\n",
       "    .dataframe tbody tr th:only-of-type {\n",
       "        vertical-align: middle;\n",
       "    }\n",
       "\n",
       "    .dataframe tbody tr th {\n",
       "        vertical-align: top;\n",
       "    }\n",
       "\n",
       "    .dataframe thead th {\n",
       "        text-align: right;\n",
       "    }\n",
       "</style>\n",
       "<table border=\"1\" class=\"dataframe\">\n",
       "  <thead>\n",
       "    <tr style=\"text-align: right;\">\n",
       "      <th></th>\n",
       "      <th>x</th>\n",
       "      <th>y</th>\n",
       "    </tr>\n",
       "  </thead>\n",
       "  <tbody>\n",
       "    <tr>\n",
       "      <th>count</th>\n",
       "      <td>300.000000</td>\n",
       "      <td>300.000000</td>\n",
       "    </tr>\n",
       "    <tr>\n",
       "      <th>mean</th>\n",
       "      <td>50.936667</td>\n",
       "      <td>51.205051</td>\n",
       "    </tr>\n",
       "    <tr>\n",
       "      <th>std</th>\n",
       "      <td>28.504286</td>\n",
       "      <td>29.071481</td>\n",
       "    </tr>\n",
       "    <tr>\n",
       "      <th>min</th>\n",
       "      <td>0.000000</td>\n",
       "      <td>-3.467884</td>\n",
       "    </tr>\n",
       "    <tr>\n",
       "      <th>25%</th>\n",
       "      <td>27.000000</td>\n",
       "      <td>25.676502</td>\n",
       "    </tr>\n",
       "    <tr>\n",
       "      <th>50%</th>\n",
       "      <td>53.000000</td>\n",
       "      <td>52.170557</td>\n",
       "    </tr>\n",
       "    <tr>\n",
       "      <th>75%</th>\n",
       "      <td>73.000000</td>\n",
       "      <td>74.303007</td>\n",
       "    </tr>\n",
       "    <tr>\n",
       "      <th>max</th>\n",
       "      <td>100.000000</td>\n",
       "      <td>105.591837</td>\n",
       "    </tr>\n",
       "  </tbody>\n",
       "</table>\n",
       "</div>"
      ],
      "text/plain": [
       "                x           y\n",
       "count  300.000000  300.000000\n",
       "mean    50.936667   51.205051\n",
       "std     28.504286   29.071481\n",
       "min      0.000000   -3.467884\n",
       "25%     27.000000   25.676502\n",
       "50%     53.000000   52.170557\n",
       "75%     73.000000   74.303007\n",
       "max    100.000000  105.591837"
      ]
     },
     "execution_count": 3,
     "metadata": {},
     "output_type": "execute_result"
    }
   ],
   "source": [
    "# Checking for missing data and outliers\n",
    "test_data.describe()"
   ]
  },
  {
   "cell_type": "code",
   "execution_count": 4,
   "id": "a3f41114",
   "metadata": {
    "execution": {
     "iopub.execute_input": "2024-05-09T10:17:59.775641Z",
     "iopub.status.busy": "2024-05-09T10:17:59.775223Z",
     "iopub.status.idle": "2024-05-09T10:17:59.794505Z",
     "shell.execute_reply": "2024-05-09T10:17:59.793258Z"
    },
    "papermill": {
     "duration": 0.034473,
     "end_time": "2024-05-09T10:17:59.796977",
     "exception": false,
     "start_time": "2024-05-09T10:17:59.762504",
     "status": "completed"
    },
    "tags": []
   },
   "outputs": [
    {
     "data": {
      "text/html": [
       "<div>\n",
       "<style scoped>\n",
       "    .dataframe tbody tr th:only-of-type {\n",
       "        vertical-align: middle;\n",
       "    }\n",
       "\n",
       "    .dataframe tbody tr th {\n",
       "        vertical-align: top;\n",
       "    }\n",
       "\n",
       "    .dataframe thead th {\n",
       "        text-align: right;\n",
       "    }\n",
       "</style>\n",
       "<table border=\"1\" class=\"dataframe\">\n",
       "  <thead>\n",
       "    <tr style=\"text-align: right;\">\n",
       "      <th></th>\n",
       "      <th>x</th>\n",
       "      <th>y</th>\n",
       "    </tr>\n",
       "  </thead>\n",
       "  <tbody>\n",
       "    <tr>\n",
       "      <th>count</th>\n",
       "      <td>700.000000</td>\n",
       "      <td>699.000000</td>\n",
       "    </tr>\n",
       "    <tr>\n",
       "      <th>mean</th>\n",
       "      <td>54.985939</td>\n",
       "      <td>49.939869</td>\n",
       "    </tr>\n",
       "    <tr>\n",
       "      <th>std</th>\n",
       "      <td>134.681703</td>\n",
       "      <td>29.109217</td>\n",
       "    </tr>\n",
       "    <tr>\n",
       "      <th>min</th>\n",
       "      <td>0.000000</td>\n",
       "      <td>-3.839981</td>\n",
       "    </tr>\n",
       "    <tr>\n",
       "      <th>25%</th>\n",
       "      <td>25.000000</td>\n",
       "      <td>24.929968</td>\n",
       "    </tr>\n",
       "    <tr>\n",
       "      <th>50%</th>\n",
       "      <td>49.000000</td>\n",
       "      <td>48.973020</td>\n",
       "    </tr>\n",
       "    <tr>\n",
       "      <th>75%</th>\n",
       "      <td>75.000000</td>\n",
       "      <td>74.929911</td>\n",
       "    </tr>\n",
       "    <tr>\n",
       "      <th>max</th>\n",
       "      <td>3530.157369</td>\n",
       "      <td>108.871618</td>\n",
       "    </tr>\n",
       "  </tbody>\n",
       "</table>\n",
       "</div>"
      ],
      "text/plain": [
       "                 x           y\n",
       "count   700.000000  699.000000\n",
       "mean     54.985939   49.939869\n",
       "std     134.681703   29.109217\n",
       "min       0.000000   -3.839981\n",
       "25%      25.000000   24.929968\n",
       "50%      49.000000   48.973020\n",
       "75%      75.000000   74.929911\n",
       "max    3530.157369  108.871618"
      ]
     },
     "execution_count": 4,
     "metadata": {},
     "output_type": "execute_result"
    }
   ],
   "source": [
    "train_data.describe() # One y value is missing"
   ]
  },
  {
   "cell_type": "code",
   "execution_count": 5,
   "id": "1946d375",
   "metadata": {
    "execution": {
     "iopub.execute_input": "2024-05-09T10:17:59.813061Z",
     "iopub.status.busy": "2024-05-09T10:17:59.812616Z",
     "iopub.status.idle": "2024-05-09T10:17:59.824314Z",
     "shell.execute_reply": "2024-05-09T10:17:59.823231Z"
    },
    "papermill": {
     "duration": 0.022617,
     "end_time": "2024-05-09T10:17:59.826815",
     "exception": false,
     "start_time": "2024-05-09T10:17:59.804198",
     "status": "completed"
    },
    "tags": []
   },
   "outputs": [
    {
     "data": {
      "text/plain": [
       "(699, 2)"
      ]
     },
     "execution_count": 5,
     "metadata": {},
     "output_type": "execute_result"
    }
   ],
   "source": [
    "new_train_data = train_data.dropna(axis=0)\n",
    "new_train_data.shape"
   ]
  },
  {
   "cell_type": "code",
   "execution_count": 6,
   "id": "3ccbfdf4",
   "metadata": {
    "execution": {
     "iopub.execute_input": "2024-05-09T10:17:59.843151Z",
     "iopub.status.busy": "2024-05-09T10:17:59.842225Z",
     "iopub.status.idle": "2024-05-09T10:18:00.457331Z",
     "shell.execute_reply": "2024-05-09T10:18:00.456211Z"
    },
    "papermill": {
     "duration": 0.626185,
     "end_time": "2024-05-09T10:18:00.460058",
     "exception": false,
     "start_time": "2024-05-09T10:17:59.833873",
     "status": "completed"
    },
    "tags": []
   },
   "outputs": [
    {
     "data": {
      "image/png": "[encoded data removed]",
      "text/plain": [
       "<Figure size 640x480 with 4 Axes>"
      ]
     },
     "metadata": {},
     "output_type": "display_data"
    }
   ],
   "source": [
    "from pandas.plotting import scatter_matrix\n",
    "scatter_matrix(new_train_data)\n",
    "plt.show()"
   ]
  },
  {
   "cell_type": "code",
   "execution_count": 7,
   "id": "2b988aa2",
   "metadata": {
    "execution": {
     "iopub.execute_input": "2024-05-09T10:18:00.477188Z",
     "iopub.status.busy": "2024-05-09T10:18:00.476739Z",
     "iopub.status.idle": "2024-05-09T10:18:00.483547Z",
     "shell.execute_reply": "2024-05-09T10:18:00.482444Z"
    },
    "papermill": {
     "duration": 0.018443,
     "end_time": "2024-05-09T10:18:00.486097",
     "exception": false,
     "start_time": "2024-05-09T10:18:00.467654",
     "status": "completed"
    },
    "tags": []
   },
   "outputs": [],
   "source": [
    "X_train = new_train_data.x.to_numpy().reshape(-1,1)\n",
    "y_train = new_train_data.y.to_numpy().reshape(-1,1)\n",
    "\n",
    "X_test = test_data.x.to_numpy().reshape(-1,1)\n",
    "y_test = test_data.y.to_numpy().reshape(-1,1)"
   ]
  },
  {
   "cell_type": "markdown",
   "id": "ea591873",
   "metadata": {
    "execution": {
     "iopub.execute_input": "2024-05-09T08:58:41.854524Z",
     "iopub.status.busy": "2024-05-09T08:58:41.854145Z",
     "iopub.status.idle": "2024-05-09T08:58:41.861180Z",
     "shell.execute_reply": "2024-05-09T08:58:41.859484Z",
     "shell.execute_reply.started": "2024-05-09T08:58:41.854498Z"
    },
    "papermill": {
     "duration": 0.007516,
     "end_time": "2024-05-09T10:18:00.501539",
     "exception": false,
     "start_time": "2024-05-09T10:18:00.494023",
     "status": "completed"
    },
    "tags": []
   },
   "source": [
    "### 2. Simple Linear Regression"
   ]
  },
  {
   "cell_type": "code",
   "execution_count": 8,
   "id": "e3550675",
   "metadata": {
    "execution": {
     "iopub.execute_input": "2024-05-09T10:18:00.518759Z",
     "iopub.status.busy": "2024-05-09T10:18:00.518332Z",
     "iopub.status.idle": "2024-05-09T10:18:01.595227Z",
     "shell.execute_reply": "2024-05-09T10:18:01.594065Z"
    },
    "papermill": {
     "duration": 1.089025,
     "end_time": "2024-05-09T10:18:01.598259",
     "exception": false,
     "start_time": "2024-05-09T10:18:00.509234",
     "status": "completed"
    },
    "tags": []
   },
   "outputs": [
    {
     "data": {
      "text/html": [
       "<style>#sk-container-id-1 {color: black;background-color: white;}#sk-container-id-1 pre{padding: 0;}#sk-container-id-1 div.sk-toggleable {background-color: white;}#sk-container-id-1 label.sk-toggleable__label {cursor: pointer;display: block;width: 100%;margin-bottom: 0;padding: 0.3em;box-sizing: border-box;text-align: center;}#sk-container-id-1 label.sk-toggleable__label-arrow:before {content: \"▸\";float: left;margin-right: 0.25em;color: #696969;}#sk-container-id-1 label.sk-toggleable__label-arrow:hover:before {color: black;}#sk-container-id-1 div.sk-estimator:hover label.sk-toggleable__label-arrow:before {color: black;}#sk-container-id-1 div.sk-toggleable__content {max-height: 0;max-width: 0;overflow: hidden;text-align: left;background-color: #f0f8ff;}#sk-container-id-1 div.sk-toggleable__content pre {margin: 0.2em;color: black;border-radius: 0.25em;background-color: #f0f8ff;}#sk-container-id-1 input.sk-toggleable__control:checked~div.sk-toggleable__content {max-height: 200px;max-width: 100%;overflow: auto;}#sk-container-id-1 input.sk-toggleable__control:checked~label.sk-toggleable__label-arrow:before {content: \"▾\";}#sk-container-id-1 div.sk-estimator input.sk-toggleable__control:checked~label.sk-toggleable__label {background-color: #d4ebff;}#sk-container-id-1 div.sk-label input.sk-toggleable__control:checked~label.sk-toggleable__label {background-color: #d4ebff;}#sk-container-id-1 input.sk-hidden--visually {border: 0;clip: rect(1px 1px 1px 1px);clip: rect(1px, 1px, 1px, 1px);height: 1px;margin: -1px;overflow: hidden;padding: 0;position: absolute;width: 1px;}#sk-container-id-1 div.sk-estimator {font-family: monospace;background-color: #f0f8ff;border: 1px dotted black;border-radius: 0.25em;box-sizing: border-box;margin-bottom: 0.5em;}#sk-container-id-1 div.sk-estimator:hover {background-color: #d4ebff;}#sk-container-id-1 div.sk-parallel-item::after {content: \"\";width: 100%;border-bottom: 1px solid gray;flex-grow: 1;}#sk-container-id-1 div.sk-label:hover label.sk-toggleable__label {background-color: #d4ebff;}#sk-container-id-1 div.sk-serial::before {content: \"\";position: absolute;border-left: 1px solid gray;box-sizing: border-box;top: 0;bottom: 0;left: 50%;z-index: 0;}#sk-container-id-1 div.sk-serial {display: flex;flex-direction: column;align-items: center;background-color: white;padding-right: 0.2em;padding-left: 0.2em;position: relative;}#sk-container-id-1 div.sk-item {position: relative;z-index: 1;}#sk-container-id-1 div.sk-parallel {display: flex;align-items: stretch;justify-content: center;background-color: white;position: relative;}#sk-container-id-1 div.sk-item::before, #sk-container-id-1 div.sk-parallel-item::before {content: \"\";position: absolute;border-left: 1px solid gray;box-sizing: border-box;top: 0;bottom: 0;left: 50%;z-index: -1;}#sk-container-id-1 div.sk-parallel-item {display: flex;flex-direction: column;z-index: 1;position: relative;background-color: white;}#sk-container-id-1 div.sk-parallel-item:first-child::after {align-self: flex-end;width: 50%;}#sk-container-id-1 div.sk-parallel-item:last-child::after {align-self: flex-start;width: 50%;}#sk-container-id-1 div.sk-parallel-item:only-child::after {width: 0;}#sk-container-id-1 div.sk-dashed-wrapped {border: 1px dashed gray;margin: 0 0.4em 0.5em 0.4em;box-sizing: border-box;padding-bottom: 0.4em;background-color: white;}#sk-container-id-1 div.sk-label label {font-family: monospace;font-weight: bold;display: inline-block;line-height: 1.2em;}#sk-container-id-1 div.sk-label-container {text-align: center;}#sk-container-id-1 div.sk-container {/* jupyter's `normalize.less` sets `[hidden] { display: none; }` but bootstrap.min.css set `[hidden] { display: none !important; }` so we also need the `!important` here to be able to override the default hidden behavior on the sphinx rendered scikit-learn.org. See: https://github.com/scikit-learn/scikit-learn/issues/21755 */display: inline-block !important;position: relative;}#sk-container-id-1 div.sk-text-repr-fallback {display: none;}</style><div id=\"sk-container-id-1\" class=\"sk-top-container\"><div class=\"sk-text-repr-fallback\"><pre>LinearRegression()</pre><b>In a Jupyter environment, please rerun this cell to show the HTML representation or trust the notebook. <br />On GitHub, the HTML representation is unable to render, please try loading this page with nbviewer.org.</b></div><div class=\"sk-container\" hidden><div class=\"sk-item\"><div class=\"sk-estimator sk-toggleable\"><input class=\"sk-toggleable__control sk-hidden--visually\" id=\"sk-estimator-id-1\" type=\"checkbox\" checked><label for=\"sk-estimator-id-1\" class=\"sk-toggleable__label sk-toggleable__label-arrow\">LinearRegression</label><div class=\"sk-toggleable__content\"><pre>LinearRegression()</pre></div></div></div></div></div>"
      ],
      "text/plain": [
       "LinearRegression()"
      ]
     },
     "execution_count": 8,
     "metadata": {},
     "output_type": "execute_result"
    }
   ],
   "source": [
    "from sklearn.linear_model import LinearRegression\n",
    "\n",
    "lin_reg = LinearRegression()\n",
    "lin_reg.fit(X_train,y_train)"
   ]
  },
  {
   "cell_type": "code",
   "execution_count": 9,
   "id": "0881a8c6",
   "metadata": {
    "execution": {
     "iopub.execute_input": "2024-05-09T10:18:01.617169Z",
     "iopub.status.busy": "2024-05-09T10:18:01.616765Z",
     "iopub.status.idle": "2024-05-09T10:18:01.625955Z",
     "shell.execute_reply": "2024-05-09T10:18:01.624932Z"
    },
    "papermill": {
     "duration": 0.021701,
     "end_time": "2024-05-09T10:18:01.628505",
     "exception": false,
     "start_time": "2024-05-09T10:18:01.606804",
     "status": "completed"
    },
    "tags": []
   },
   "outputs": [
    {
     "name": "stdout",
     "output_type": "stream",
     "text": [
      "RMSE for Linear Regression is:  2.8060032573697113\n",
      "R2 Score for Linear Regression is:  0.9907015319025518\n"
     ]
    }
   ],
   "source": [
    "from sklearn.metrics import mean_squared_error\n",
    "\n",
    "train_pred = lin_reg.predict(X_train)\n",
    "lin_mse = mean_squared_error(X_train, y_train)\n",
    "lin_rmse = np.sqrt(lin_mse)\n",
    "print(\"RMSE for Linear Regression is: \", lin_rmse)\n",
    "print(\"R2 Score for Linear Regression is: \" , lin_reg.score(X_train,y_train))"
   ]
  },
  {
   "cell_type": "markdown",
   "id": "2dcb2e28",
   "metadata": {
    "execution": {
     "iopub.execute_input": "2024-05-09T09:26:00.202345Z",
     "iopub.status.busy": "2024-05-09T09:26:00.201941Z",
     "iopub.status.idle": "2024-05-09T09:26:00.207258Z",
     "shell.execute_reply": "2024-05-09T09:26:00.206195Z",
     "shell.execute_reply.started": "2024-05-09T09:26:00.202314Z"
    },
    "papermill": {
     "duration": 0.009275,
     "end_time": "2024-05-09T10:18:01.646034",
     "exception": false,
     "start_time": "2024-05-09T10:18:01.636759",
     "status": "completed"
    },
    "tags": []
   },
   "source": [
    "### 3. Probabilistic Linear Regression\n",
    "\n",
    "Assume a zero-mean Gaussian prior on w"
   ]
  },
  {
   "cell_type": "code",
   "execution_count": 10,
   "id": "ba5b7d25",
   "metadata": {
    "execution": {
     "iopub.execute_input": "2024-05-09T10:18:01.664075Z",
     "iopub.status.busy": "2024-05-09T10:18:01.663630Z",
     "iopub.status.idle": "2024-05-09T10:18:01.668754Z",
     "shell.execute_reply": "2024-05-09T10:18:01.667403Z"
    },
    "papermill": {
     "duration": 0.016982,
     "end_time": "2024-05-09T10:18:01.671185",
     "exception": false,
     "start_time": "2024-05-09T10:18:01.654203",
     "status": "completed"
    },
    "tags": []
   },
   "outputs": [],
   "source": [
    "beta = 0.2\n",
    "lbda = 1"
   ]
  },
  {
   "cell_type": "code",
   "execution_count": 11,
   "id": "7ecbf96c",
   "metadata": {
    "execution": {
     "iopub.execute_input": "2024-05-09T10:18:01.689729Z",
     "iopub.status.busy": "2024-05-09T10:18:01.689306Z",
     "iopub.status.idle": "2024-05-09T10:18:01.699426Z",
     "shell.execute_reply": "2024-05-09T10:18:01.698348Z"
    },
    "papermill": {
     "duration": 0.022066,
     "end_time": "2024-05-09T10:18:01.701716",
     "exception": false,
     "start_time": "2024-05-09T10:18:01.679650",
     "status": "completed"
    },
    "tags": []
   },
   "outputs": [
    {
     "data": {
      "text/plain": [
       "array([[2.14253423e-06]])"
      ]
     },
     "execution_count": 11,
     "metadata": {},
     "output_type": "execute_result"
    }
   ],
   "source": [
    "sigma = np.linalg.inv(beta*np.matmul(X_train.T,X_train)+lbda*np.eye(X_train.shape[1]))\n",
    "sigma"
   ]
  },
  {
   "cell_type": "code",
   "execution_count": 12,
   "id": "21c2423d",
   "metadata": {
    "execution": {
     "iopub.execute_input": "2024-05-09T10:18:01.720152Z",
     "iopub.status.busy": "2024-05-09T10:18:01.719731Z",
     "iopub.status.idle": "2024-05-09T10:18:01.728317Z",
     "shell.execute_reply": "2024-05-09T10:18:01.727237Z"
    },
    "papermill": {
     "duration": 0.020593,
     "end_time": "2024-05-09T10:18:01.730608",
     "exception": false,
     "start_time": "2024-05-09T10:18:01.710015",
     "status": "completed"
    },
    "tags": []
   },
   "outputs": [
    {
     "data": {
      "text/plain": [
       "array([[0.99904734]])"
      ]
     },
     "execution_count": 12,
     "metadata": {},
     "output_type": "execute_result"
    }
   ],
   "source": [
    "mu = np.matmul(np.linalg.inv(np.matmul(X_train.T,X_train)+(lbda/beta)*np.eye(X_train.shape[1])), np.matmul(X_train.T,y_train))\n",
    "mu"
   ]
  },
  {
   "cell_type": "code",
   "execution_count": 13,
   "id": "830624a0",
   "metadata": {
    "execution": {
     "iopub.execute_input": "2024-05-09T10:18:01.749920Z",
     "iopub.status.busy": "2024-05-09T10:18:01.748797Z",
     "iopub.status.idle": "2024-05-09T10:18:01.762210Z",
     "shell.execute_reply": "2024-05-09T10:18:01.761052Z"
    },
    "papermill": {
     "duration": 0.02563,
     "end_time": "2024-05-09T10:18:01.764638",
     "exception": false,
     "start_time": "2024-05-09T10:18:01.739008",
     "status": "completed"
    },
    "tags": []
   },
   "outputs": [
    {
     "data": {
      "text/plain": [
       "[[76.92664494674355, 5.012703085463548],\n",
       " [20.979994076384607, 5.000944857596462],\n",
       " [21.9790414133553, 5.001036986568453],\n",
       " [19.98094673941391, 5.0008570136929364],\n",
       " [35.965704130945035, 5.002776724365114]]"
      ]
     },
     "execution_count": 13,
     "metadata": {},
     "output_type": "execute_result"
    }
   ],
   "source": [
    "y_pred = []\n",
    "for x in X_test:\n",
    "    mu_ppd = np.matmul(mu.T, x)[0]\n",
    "    sigma_ppd = (1/beta)+np.matmul(x.T, np.matmul(sigma, x))\n",
    "    y_pred.append([mu_ppd, sigma_ppd])\n",
    "    \n",
    "y_pred[:5]"
   ]
  },
  {
   "cell_type": "code",
   "execution_count": 14,
   "id": "c7978a57",
   "metadata": {
    "execution": {
     "iopub.execute_input": "2024-05-09T10:18:01.783899Z",
     "iopub.status.busy": "2024-05-09T10:18:01.783486Z",
     "iopub.status.idle": "2024-05-09T10:18:02.152447Z",
     "shell.execute_reply": "2024-05-09T10:18:02.151375Z"
    },
    "papermill": {
     "duration": 0.382504,
     "end_time": "2024-05-09T10:18:02.155790",
     "exception": false,
     "start_time": "2024-05-09T10:18:01.773286",
     "status": "completed"
    },
    "tags": []
   },
   "outputs": [
    {
     "data": {
      "image/png": "[encoded data removed]",
      "text/plain": [
       "<Figure size 640x480 with 1 Axes>"
      ]
     },
     "metadata": {},
     "output_type": "display_data"
    }
   ],
   "source": [
    "plt.scatter(X_test.reshape(-1,), y_test.reshape(-1,))\n",
    "plt.plot(X_test.reshape(-1,), np.array([x[0] for x in y_pred]), c=\"g\")\n",
    "plt.plot(X_test.reshape(-1,), np.array([x[0]+x[1] for x in y_pred]), c=\"r\")\n",
    "plt.plot(X_test.reshape(-1,), np.array([x[0]-x[1] for x in y_pred]), c=\"r\")\n",
    "plt.legend([\"Real Y\", \"PPD Mean\", \"PPD Mean - sigma\", \"PPD mu + sigma\"])\n",
    "plt.title(\"Posterior Predictive Distribution\")\n",
    "plt.xlabel(\"X Test\")\n",
    "plt.ylabel(\"Y Test\")\n",
    "plt.show()"
   ]
  }
 ],
 "metadata": {
  "kaggle": {
   "accelerator": "none",
   "dataSources": [
    {
     "datasetId": 1256,
     "sourceId": 2242,
     "sourceType": "datasetVersion"
    }
   ],
   "dockerImageVersionId": 30698,
   "isGpuEnabled": false,
   "isInternetEnabled": true,
   "language": "python",
   "sourceType": "notebook"
  },
  "kernelspec": {
   "display_name": "Python 3",
   "language": "python",
   "name": "python3"
  },
  "language_info": {
   "codemirror_mode": {
    "name": "ipython",
    "version": 3
   },
   "file_extension": ".py",
   "mimetype": "text/x-python",
   "name": "python",
   "nbconvert_exporter": "python",
   "pygments_lexer": "ipython3",
   "version": "3.10.13"
  },
  "papermill": {
   "default_parameters": {},
   "duration": 24.108291,
   "end_time": "2024-05-09T10:18:04.554099",
   "environment_variables": {},
   "exception": null,
   "input_path": "__notebook__.ipynb",
   "output_path": "__notebook__.ipynb",
   "parameters": {},
   "start_time": "2024-05-09T10:17:40.445808",
   "version": "2.5.0"
  }
 },
 "nbformat": 4,
 "nbformat_minor": 5
}
